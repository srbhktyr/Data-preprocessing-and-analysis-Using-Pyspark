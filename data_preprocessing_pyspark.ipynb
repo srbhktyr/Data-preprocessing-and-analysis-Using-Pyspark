{
  "nbformat": 4,
  "nbformat_minor": 0,
  "metadata": {
    "colab": {
      "provenance": [],
      "collapsed_sections": [],
      "include_colab_link": true
    },
    "kernelspec": {
      "name": "python3",
      "display_name": "Python 3"
    }
  },
  "cells": [
    {
      "cell_type": "markdown",
      "metadata": {
        "id": "view-in-github",
        "colab_type": "text"
      },
      "source": [
        "<a href=\"https://colab.research.google.com/github/srbhktyr/Data-preprocessing-and-analysis-Using-Pyspark/blob/main/data_preprocessing_pyspark.ipynb\" target=\"_parent\"><img src=\"https://colab.research.google.com/assets/colab-badge.svg\" alt=\"Open In Colab\"/></a>"
      ]
    },
    {
      "cell_type": "markdown",
      "metadata": {
        "id": "jPyDpDqvZuLo"
      },
      "source": [
        "# **Welcome to the Notebook**"
      ]
    },
    {
      "cell_type": "markdown",
      "metadata": {
        "id": "F2YNhXuUwGNl"
      },
      "source": [
        "### Let's mount the google drive "
      ]
    },
    {
      "cell_type": "code",
      "metadata": {
        "id": "MmQC7J5cvkzE",
        "colab": {
          "base_uri": "https://localhost:8080/"
        },
        "outputId": "cd38c322-49d5-44ab-d47c-838f419d1411"
      },
      "source": [
        "from google.colab import drive\n",
        "drive.mount('/content/drive')"
      ],
      "execution_count": null,
      "outputs": [
        {
          "output_type": "stream",
          "name": "stdout",
          "text": [
            "Mounted at /content/drive\n"
          ]
        }
      ]
    },
    {
      "cell_type": "markdown",
      "metadata": {
        "id": "cs9EInKyWicZ"
      },
      "source": [
        "# Task 1 : \n",
        "Installing pyspark module"
      ]
    },
    {
      "cell_type": "code",
      "metadata": {
        "id": "LJq2nzUKWujx",
        "colab": {
          "base_uri": "https://localhost:8080/"
        },
        "outputId": "338189d6-f6ca-4888-a610-c4d962dc1982"
      },
      "source": [
        "!pip install pyspark"
      ],
      "execution_count": null,
      "outputs": [
        {
          "output_type": "stream",
          "name": "stdout",
          "text": [
            "Looking in indexes: https://pypi.org/simple, https://us-python.pkg.dev/colab-wheels/public/simple/\n",
            "Collecting pyspark\n",
            "  Downloading pyspark-3.3.0.tar.gz (281.3 MB)\n",
            "\u001b[K     |████████████████████████████████| 281.3 MB 44 kB/s \n",
            "\u001b[?25hCollecting py4j==0.10.9.5\n",
            "  Downloading py4j-0.10.9.5-py2.py3-none-any.whl (199 kB)\n",
            "\u001b[K     |████████████████████████████████| 199 kB 59.1 MB/s \n",
            "\u001b[?25hBuilding wheels for collected packages: pyspark\n",
            "  Building wheel for pyspark (setup.py) ... \u001b[?25l\u001b[?25hdone\n",
            "  Created wheel for pyspark: filename=pyspark-3.3.0-py2.py3-none-any.whl size=281764026 sha256=db31221ef8cc0e493a1c5486af37d1a91c18ac51e04fa9b6edaa53f70e746edc\n",
            "  Stored in directory: /root/.cache/pip/wheels/7a/8e/1b/f73a52650d2e5f337708d9f6a1750d451a7349a867f928b885\n",
            "Successfully built pyspark\n",
            "Installing collected packages: py4j, pyspark\n",
            "Successfully installed py4j-0.10.9.5 pyspark-3.3.0\n"
          ]
        }
      ]
    },
    {
      "cell_type": "markdown",
      "metadata": {
        "id": "dVNAlw2jWiWb"
      },
      "source": [
        "Importing the modules "
      ]
    },
    {
      "cell_type": "code",
      "metadata": {
        "id": "gS3YIWJiW7I3"
      },
      "source": [
        "from pyspark.sql import SparkSession\n",
        "from pyspark.sql.functions import count, desc , col, max, struct\n",
        "import matplotlib.pyplot as plt"
      ],
      "execution_count": null,
      "outputs": []
    },
    {
      "cell_type": "markdown",
      "metadata": {
        "id": "RKuIUYLwSkNP"
      },
      "source": [
        "creating spark session"
      ]
    },
    {
      "cell_type": "code",
      "metadata": {
        "id": "XXSZBvRgSnCN",
        "cellView": "both"
      },
      "source": [
        "spark = SparkSession.builder.appName(\"spark_app\").getOrCreate()"
      ],
      "execution_count": null,
      "outputs": []
    },
    {
      "cell_type": "markdown",
      "metadata": {
        "id": "vv_SKqr8T9mT"
      },
      "source": [
        "# Task 2 : \n",
        "importing the *Listenings.csv* file: "
      ]
    },
    {
      "cell_type": "code",
      "metadata": {
        "id": "gK22lJDRTuKY"
      },
      "source": [
        "from zmq.constants import IntFlag\n",
        "listening_csv_path = '/content/drive/MyDrive/dataset/listenings.csv'\n",
        "listening_df = spark.read.csv(listening_csv_path, header = True, \n",
        "                              inferSchema=True)"
      ],
      "execution_count": null,
      "outputs": []
    },
    {
      "cell_type": "markdown",
      "metadata": {
        "id": "s1i6KVshykdn"
      },
      "source": [
        "let's check the data:"
      ]
    },
    {
      "cell_type": "code",
      "metadata": {
        "id": "5Ji0zViUyjUE",
        "colab": {
          "base_uri": "https://localhost:8080/"
        },
        "outputId": "6c89f668-0d7f-4c35-8036-c4b44a6c9d9a"
      },
      "source": [
        "listening_df.show(5)"
      ],
      "execution_count": null,
      "outputs": [
        {
          "output_type": "stream",
          "name": "stdout",
          "text": [
            "+-----------+--------------------+---------+-----------------+\n",
            "|    user_id|               track|   artist|            album|\n",
            "+-----------+--------------------+---------+-----------------+\n",
            "|000Silenced|           Price Tag| Jessie J|      Who You Are|\n",
            "|000Silenced|Price Tag (Acoust...| Jessie J|        Price Tag|\n",
            "|000Silenced|Be Mine! (Ballad ...|    Robyn|         Be Mine!|\n",
            "|000Silenced|            Acapella|    Kelis|         Acapella|\n",
            "|000Silenced|   I'm Not Invisible|The Tease|I'm Not Invisible|\n",
            "+-----------+--------------------+---------+-----------------+\n",
            "only showing top 5 rows\n",
            "\n"
          ]
        }
      ]
    },
    {
      "cell_type": "markdown",
      "metadata": {
        "id": "HS6wd2d_woNC"
      },
      "source": [
        "let's delete useless columns:"
      ]
    },
    {
      "cell_type": "code",
      "metadata": {
        "id": "pIMzBAglwtNP"
      },
      "source": [
        "listening_df =  listening_df.drop('date')"
      ],
      "execution_count": null,
      "outputs": []
    },
    {
      "cell_type": "markdown",
      "metadata": {
        "id": "MwpJJeWa4qmn"
      },
      "source": [
        "drop the null rows:"
      ]
    },
    {
      "cell_type": "code",
      "metadata": {
        "id": "Botf6-Vb4uqs"
      },
      "source": [
        "listening_df = listening_df.dropna()"
      ],
      "execution_count": null,
      "outputs": []
    },
    {
      "cell_type": "markdown",
      "metadata": {
        "id": "tTN6jr3K4xkF"
      },
      "source": [
        "let's check the dataset again:"
      ]
    },
    {
      "cell_type": "code",
      "metadata": {
        "id": "JDp_rdEY40u3",
        "colab": {
          "base_uri": "https://localhost:8080/"
        },
        "outputId": "47740a48-c2bb-4986-b611-aca26eb662b0"
      },
      "source": [
        "listening_df.show(10)"
      ],
      "execution_count": null,
      "outputs": [
        {
          "output_type": "stream",
          "name": "stdout",
          "text": [
            "+-----------+--------------------+------------+--------------------+\n",
            "|    user_id|               track|      artist|               album|\n",
            "+-----------+--------------------+------------+--------------------+\n",
            "|000Silenced|           Price Tag|    Jessie J|         Who You Are|\n",
            "|000Silenced|Price Tag (Acoust...|    Jessie J|           Price Tag|\n",
            "|000Silenced|Be Mine! (Ballad ...|       Robyn|            Be Mine!|\n",
            "|000Silenced|            Acapella|       Kelis|            Acapella|\n",
            "|000Silenced|   I'm Not Invisible|   The Tease|   I'm Not Invisible|\n",
            "|000Silenced|Bounce (Feat NORE...|    MSTRKRFT|         Fist of God|\n",
            "|000Silenced|Don't Stop The Mu...|     Rihanna|Addicted 2 Bassli...|\n",
            "|000Silenced|               ObZen|   Meshuggah|               ObZen|\n",
            "|000Silenced|   Yama's Messengers|      Gojira|The Way of All Flesh|\n",
            "|000Silenced|On the Brink of E...|Napalm Death|Time Waits For No...|\n",
            "+-----------+--------------------+------------+--------------------+\n",
            "only showing top 10 rows\n",
            "\n"
          ]
        }
      ]
    },
    {
      "cell_type": "markdown",
      "metadata": {
        "id": "Z7nKCYoZltnv"
      },
      "source": [
        "let's see the schema: "
      ]
    },
    {
      "cell_type": "code",
      "metadata": {
        "id": "qVg1jt1OyWdh",
        "colab": {
          "base_uri": "https://localhost:8080/"
        },
        "outputId": "4fa15c21-b715-42a6-e853-90837ab5fb96"
      },
      "source": [
        "listening_df.printSchema()"
      ],
      "execution_count": null,
      "outputs": [
        {
          "output_type": "stream",
          "name": "stdout",
          "text": [
            "root\n",
            " |-- user_id: string (nullable = true)\n",
            " |-- track: string (nullable = true)\n",
            " |-- artist: string (nullable = true)\n",
            " |-- album: string (nullable = true)\n",
            "\n"
          ]
        }
      ]
    },
    {
      "cell_type": "markdown",
      "metadata": {
        "id": "JMkQsQt2xSb5"
      },
      "source": [
        "let's see the shape of our dataframe: "
      ]
    },
    {
      "cell_type": "code",
      "metadata": {
        "id": "6POkV3YFmh6b",
        "colab": {
          "base_uri": "https://localhost:8080/"
        },
        "outputId": "e571a293-7cd9-4173-bd43-372f7858e16f"
      },
      "source": [
        "shape = (listening_df.count(), len(listening_df.columns))\n",
        "shape"
      ],
      "execution_count": null,
      "outputs": [
        {
          "output_type": "execute_result",
          "data": {
            "text/plain": [
              "(13758905, 4)"
            ]
          },
          "metadata": {},
          "execution_count": 15
        }
      ]
    },
    {
      "cell_type": "markdown",
      "metadata": {
        "id": "XMD0DhFl2FEJ"
      },
      "source": [
        "# Task 3:\n",
        "\n",
        "**Query #0:**\n",
        "select two columns: track and artist"
      ]
    },
    {
      "cell_type": "code",
      "metadata": {
        "id": "FZTdA5wn2TZy",
        "colab": {
          "base_uri": "https://localhost:8080/"
        },
        "outputId": "8f9e6cf5-9d19-4ef3-dad8-869b1e8e5d88"
      },
      "source": [
        "listening_df.select('artist', 'track').show(5)"
      ],
      "execution_count": null,
      "outputs": [
        {
          "output_type": "stream",
          "name": "stdout",
          "text": [
            "+---------+--------------------+\n",
            "|   artist|               track|\n",
            "+---------+--------------------+\n",
            "| Jessie J|           Price Tag|\n",
            "| Jessie J|Price Tag (Acoust...|\n",
            "|    Robyn|Be Mine! (Ballad ...|\n",
            "|    Kelis|            Acapella|\n",
            "|The Tease|   I'm Not Invisible|\n",
            "+---------+--------------------+\n",
            "only showing top 5 rows\n",
            "\n"
          ]
        }
      ]
    },
    {
      "cell_type": "markdown",
      "metadata": {
        "id": "QRcgXOFs2hjw"
      },
      "source": [
        "**Query #1**:\n",
        "\n",
        "Let's find all of the records of those users who have listened to ***Rihanna***"
      ]
    },
    {
      "cell_type": "code",
      "metadata": {
        "id": "ICyiTMVnppLw",
        "colab": {
          "base_uri": "https://localhost:8080/"
        },
        "outputId": "65a9aa06-9efc-433c-f2e2-727f22ed342d"
      },
      "source": [
        "listening_df.select('*').filter(listening_df.artist == \"Rihanna\").show(5)"
      ],
      "execution_count": null,
      "outputs": [
        {
          "output_type": "stream",
          "name": "stdout",
          "text": [
            "+-----------+--------------------+-------+--------------------+\n",
            "|    user_id|               track| artist|               album|\n",
            "+-----------+--------------------+-------+--------------------+\n",
            "|000Silenced|Don't Stop The Mu...|Rihanna|Addicted 2 Bassli...|\n",
            "|000Silenced|           Disturbia|Rihanna|Good Girl Gone Ba...|\n",
            "|00williamsl|   Hatin On The Club|Rihanna|              Random|\n",
            "|00williamsl|   Hatin On The Club|Rihanna|              Random|\n",
            "|00williamsl|         Complicated|Rihanna|                Loud|\n",
            "+-----------+--------------------+-------+--------------------+\n",
            "only showing top 5 rows\n",
            "\n"
          ]
        }
      ]
    },
    {
      "cell_type": "markdown",
      "metadata": {
        "id": "I0IafeyvFU9O"
      },
      "source": [
        "**Query #2:**\n",
        "\n",
        "Let's find top 10 users who are fan of ***Rihanna***"
      ]
    },
    {
      "cell_type": "code",
      "metadata": {
        "id": "3-hM9kMm7JmI",
        "colab": {
          "base_uri": "https://localhost:8080/"
        },
        "outputId": "d8908443-264d-4d67-a33e-dcf5157b7660"
      },
      "source": [
        "q2 = listening_df.select('user_id').filter(listening_df.artist == 'Rihanna').groupby('user_id').agg(count('user_id').alias('count')).orderBy(desc('count')).limit(10)\n",
        "q2.show()"
      ],
      "execution_count": null,
      "outputs": [
        {
          "output_type": "stream",
          "name": "stdout",
          "text": [
            "+---------------+-----+\n",
            "|        user_id|count|\n",
            "+---------------+-----+\n",
            "|        thiessu|  179|\n",
            "|    eyessetkyle|  166|\n",
            "|           adxx|  164|\n",
            "|missnumberthree|  156|\n",
            "|helloiamnatalie|  128|\n",
            "|          nmjnb|  124|\n",
            "|        AndyyyA|  123|\n",
            "|     BIGBANG186|  121|\n",
            "|     mixedvibes|  120|\n",
            "|       AndyKitt|  115|\n",
            "+---------------+-----+\n",
            "\n"
          ]
        }
      ]
    },
    {
      "cell_type": "markdown",
      "metadata": {
        "id": "hgAAl6aAcp41"
      },
      "source": [
        "**Query #3:**\n",
        "\n",
        "find top 10 famous tracks "
      ]
    },
    {
      "cell_type": "code",
      "metadata": {
        "id": "qlh3IUzfJ3_I",
        "colab": {
          "base_uri": "https://localhost:8080/"
        },
        "outputId": "5ef63e0d-4ef8-4d20-c4cc-b94be30ae83f"
      },
      "source": [
        "# q3 = listening_df.select('track').groupBy('track').count().alias('count').orderBy(desc('count'))\n",
        "# q3.show()\n",
        "## above method mmay count wrongly as tere might be same name with different artist\n",
        "\n",
        "q3= listening_df.select('track', 'artist').groupBy('track', 'artist').agg(count('*').alias('count')).orderBy(desc('count')).limit(10)\n",
        "q3.show()"
      ],
      "execution_count": null,
      "outputs": [
        {
          "output_type": "stream",
          "name": "stdout",
          "text": [
            "+----------------+--------------+-----+\n",
            "|           track|        artist|count|\n",
            "+----------------+--------------+-----+\n",
            "|           Sorry| Justin Bieber| 3381|\n",
            "|Do I Wanna Know?|Arctic Monkeys| 2865|\n",
            "|     Skinny Love|      Bon Iver| 2836|\n",
            "|      PILLOWTALK|          Zayn| 2701|\n",
            "|   Mr Brightside|   The Killers| 2690|\n",
            "|            Work|       Rihanna| 2646|\n",
            "|         Pompeii|      Bastille| 2606|\n",
            "| Little Lion Man|Mumford & Sons| 2520|\n",
            "|        The Cave|Mumford & Sons| 2485|\n",
            "|   Love Yourself| Justin Bieber| 2481|\n",
            "+----------------+--------------+-----+\n",
            "\n"
          ]
        }
      ]
    },
    {
      "cell_type": "markdown",
      "metadata": {
        "id": "HqhPhQvjeXt0"
      },
      "source": [
        "**Query #4:**\n",
        "\n",
        "find top 10 famous tracks of ***Rihanna*** "
      ]
    },
    {
      "cell_type": "code",
      "metadata": {
        "id": "D_npmdh1ec8y",
        "colab": {
          "base_uri": "https://localhost:8080/"
        },
        "outputId": "56640540-3a90-46bc-c275-4c86bf14d317"
      },
      "source": [
        "q4 = listening_df.select('track', 'artist').filter(listening_df.artist =='Rihanna').groupBy('track').count().alias('count').orderBy(desc('count')).limit(10)\n",
        "q4.show()"
      ],
      "execution_count": null,
      "outputs": [
        {
          "output_type": "stream",
          "name": "stdout",
          "text": [
            "+--------------------+-----+\n",
            "|               track|count|\n",
            "+--------------------+-----+\n",
            "|                Work| 2646|\n",
            "|Only Girl (In the...| 1749|\n",
            "|We Found Love (fe...| 1575|\n",
            "|                 S&M| 1307|\n",
            "|            Rude Boy| 1303|\n",
            "|            Diamonds| 1224|\n",
            "|      Kiss it Better|  945|\n",
            "| Where Have You Been|  844|\n",
            "|Cheers (Drink to ...|  697|\n",
            "|           Desperado|  679|\n",
            "+--------------------+-----+\n",
            "\n"
          ]
        }
      ]
    },
    {
      "cell_type": "markdown",
      "metadata": {
        "id": "E6pgcH0p1ZXo"
      },
      "source": [
        "**Query #5:**\n",
        "\n",
        "find top 10 famous albums "
      ]
    },
    {
      "cell_type": "code",
      "metadata": {
        "id": "c5YHm6yKenE7",
        "colab": {
          "base_uri": "https://localhost:8080/"
        },
        "outputId": "d28f11e0-19d0-44a9-92a8-61c8d90c1771"
      },
      "source": [
        "q5 = listening_df.select('artist','album').groupBy('album', 'artist').agg(count('album').alias('count')).orderBy(desc('count')).limit(10)\n",
        "q5.show()"
      ],
      "execution_count": null,
      "outputs": [
        {
          "output_type": "stream",
          "name": "stdout",
          "text": [
            "+--------------------+--------------------+-----+\n",
            "|               album|              artist|count|\n",
            "+--------------------+--------------------+-----+\n",
            "|   The Life Of Pablo|          Kanye West|22310|\n",
            "|                  xx|              The xx|14195|\n",
            "|                  AM|      Arctic Monkeys|14090|\n",
            "|     An Awesome Wave|               alt-J|13635|\n",
            "|        Sigh No More|      Mumford & Sons|13543|\n",
            "|Whatever People S...|      Arctic Monkeys|12731|\n",
            "|            For Emma|            Bon Iver|11994|\n",
            "|          Art Angels|              Grimes|11655|\n",
            "|               Lungs|Florence + the Ma...|11362|\n",
            "|                  21|               Adele|11215|\n",
            "+--------------------+--------------------+-----+\n",
            "\n"
          ]
        }
      ]
    },
    {
      "cell_type": "markdown",
      "metadata": {
        "id": "YXev8HQ57bdq"
      },
      "source": [
        "# Task 4 :\n",
        "importing the ***genre.csv*** file:"
      ]
    },
    {
      "cell_type": "code",
      "metadata": {
        "id": "tpXSrYfu14PB",
        "colab": {
          "base_uri": "https://localhost:8080/"
        },
        "outputId": "ccf384ee-0e76-4add-f59d-852e86c1a576"
      },
      "source": [
        "genre_path = '/content/drive/MyDrive/dataset/genre.csv'\n",
        "genre_df = spark.read.csv(genre_path, header=True, inferSchema=True)\n",
        "genre_df.show(5)"
      ],
      "execution_count": null,
      "outputs": [
        {
          "output_type": "stream",
          "name": "stdout",
          "text": [
            "+----------+-----+\n",
            "|    artist|genre|\n",
            "+----------+-----+\n",
            "|      Muse| rock|\n",
            "|   Nirvana| rock|\n",
            "|  Bon Jovi| rock|\n",
            "|The Police| rock|\n",
            "|      Kiss| rock|\n",
            "+----------+-----+\n",
            "only showing top 5 rows\n",
            "\n"
          ]
        }
      ]
    },
    {
      "cell_type": "markdown",
      "metadata": {
        "id": "aCHSo36W9RcP"
      },
      "source": [
        "let's check the data"
      ]
    },
    {
      "cell_type": "code",
      "metadata": {
        "id": "LJu4Ouz89O6_"
      },
      "source": [],
      "execution_count": null,
      "outputs": []
    },
    {
      "cell_type": "markdown",
      "metadata": {
        "id": "72OpWX7F98qg"
      },
      "source": [
        "Let's inner join these two data frames"
      ]
    },
    {
      "cell_type": "code",
      "source": [
        "data = listening_df.join(genre_df, how= 'inner', on=['artist'])\n",
        "data.show(5)"
      ],
      "metadata": {
        "colab": {
          "base_uri": "https://localhost:8080/"
        },
        "id": "nDPvf2KYWkVB",
        "outputId": "77042a88-8c52-4b3f-a325-45d45b186c28"
      },
      "execution_count": null,
      "outputs": [
        {
          "output_type": "stream",
          "name": "stdout",
          "text": [
            "+--------+-----------+--------------------+-----------+--------------------+\n",
            "|  artist|    user_id|               track|      album|               genre|\n",
            "+--------+-----------+--------------------+-----------+--------------------+\n",
            "|Jessie J|000Silenced|           Price Tag|Who You Are| Ariana Grande & ...|\n",
            "|Jessie J|000Silenced|           Price Tag|Who You Are| Jhene Aiko & Rixton|\n",
            "|Jessie J|000Silenced|           Price Tag|Who You Are| Nicki Minaj & Ar...|\n",
            "|Jessie J|000Silenced|           Price Tag|Who You Are|                 pop|\n",
            "|Jessie J|000Silenced|Price Tag (Acoust...|  Price Tag| Ariana Grande & ...|\n",
            "+--------+-----------+--------------------+-----------+--------------------+\n",
            "only showing top 5 rows\n",
            "\n"
          ]
        }
      ]
    },
    {
      "cell_type": "markdown",
      "metadata": {
        "id": "yM_f5qILBNeI"
      },
      "source": [
        "**Query #6**\n",
        "\n",
        "find top 10 users who are fan of ***pop*** music"
      ]
    },
    {
      "cell_type": "code",
      "metadata": {
        "id": "dognQVlxBi2n",
        "colab": {
          "base_uri": "https://localhost:8080/"
        },
        "outputId": "ef4df03b-d763-48dc-ba7e-0f58057e0407"
      },
      "source": [
        "q6 = data.select('user_id').filter(data.genre == 'pop').groupBy('user_id').agg(count('user_id').alias('count')).orderBy(desc('count')).limit(10)\n",
        "q6.show()"
      ],
      "execution_count": null,
      "outputs": [
        {
          "output_type": "stream",
          "name": "stdout",
          "text": [
            "+---------------+-----+\n",
            "|        user_id|count|\n",
            "+---------------+-----+\n",
            "|        01Green|  496|\n",
            "|      momousagi|  400|\n",
            "|          mrpsb|  400|\n",
            "|   BlueKnockOut|  378|\n",
            "|    musicboy80s|  376|\n",
            "|  incultojurgis|  374|\n",
            "| ElektricOrchid|  370|\n",
            "|foreign_fanatic|  350|\n",
            "|   Kevin_Soutar|  346|\n",
            "|  landrover2171|  301|\n",
            "+---------------+-----+\n",
            "\n"
          ]
        }
      ]
    },
    {
      "cell_type": "markdown",
      "metadata": {
        "id": "63quzy7t-zb7"
      },
      "source": [
        "**Query #7**\n",
        "\n",
        "find top 10 famous genres"
      ]
    },
    {
      "cell_type": "code",
      "metadata": {
        "id": "aDFcoPPk-Rhf",
        "colab": {
          "base_uri": "https://localhost:8080/"
        },
        "outputId": "1ba2e923-ac83-4424-8472-52c980dc1cfa"
      },
      "source": [
        "q7 = data.select('genre').groupBy('genre').agg(count('genre').alias('count')).orderBy(desc('count')).limit(10)\n",
        "q7.show()"
      ],
      "execution_count": null,
      "outputs": [
        {
          "output_type": "stream",
          "name": "stdout",
          "text": [
            "+----------+-------+\n",
            "|     genre|  count|\n",
            "+----------+-------+\n",
            "|      rock|2691934|\n",
            "|       pop|1544747|\n",
            "|electronic| 551509|\n",
            "|   hip hop| 532984|\n",
            "|      folk| 438174|\n",
            "|indie rock| 431439|\n",
            "|      punk| 380915|\n",
            "|       r&b| 344101|\n",
            "|     metal| 208107|\n",
            "|     indie| 206726|\n",
            "+----------+-------+\n",
            "\n"
          ]
        }
      ]
    },
    {
      "cell_type": "markdown",
      "metadata": {
        "id": "hrZOAWVgLMZo"
      },
      "source": [
        "# Task 5:\n",
        "**Query #8**\n",
        "\n",
        "find out each user favourite genre"
      ]
    },
    {
      "cell_type": "code",
      "metadata": {
        "id": "H3AWxlkbLvCg",
        "colab": {
          "base_uri": "https://localhost:8080/"
        },
        "outputId": "0b663d45-9e92-4c4f-913b-2fc1e73ea85e"
      },
      "source": [
        "q8_1 = data.select('user_id', 'genre').groupBy('user_id', 'genre').agg(count('*').alias('count')).orderBy('user_id')\n",
        "q8_1.show()"
      ],
      "execution_count": null,
      "outputs": [
        {
          "output_type": "stream",
          "name": "stdout",
          "text": [
            "+-------+--------------------+-----+\n",
            "|user_id|               genre|count|\n",
            "+-------+--------------------+-----+\n",
            "| --Seph| Boston Pops Orch...|    1|\n",
            "| --Seph|                 pop|    9|\n",
            "| --Seph|          Nils Frahm|    1|\n",
            "| --Seph|               dance|    1|\n",
            "| --Seph|  progressive trance|    1|\n",
            "| --Seph|          Thom Yorke|    2|\n",
            "| --Seph|               Ruben|    4|\n",
            "| --Seph|           classical|   31|\n",
            "| --Seph|               indie|    3|\n",
            "| --Seph|         heavy metal|    1|\n",
            "| --Seph|                punk|    3|\n",
            "| --Seph|           anti-folk|    3|\n",
            "| --Seph|               house|    3|\n",
            "| --Seph|              Xzibit|    4|\n",
            "| --Seph|          electropop|    1|\n",
            "| --Seph| Orchestra of Wel...|    1|\n",
            "| --Seph|   Alesso Feat Hurts|    1|\n",
            "| --Seph|       Sara Mingardo|    1|\n",
            "| --Seph| Sir Colin Davis ...|    1|\n",
            "| --Seph|          indie rock|   15|\n",
            "+-------+--------------------+-----+\n",
            "only showing top 20 rows\n",
            "\n"
          ]
        }
      ]
    },
    {
      "cell_type": "code",
      "metadata": {
        "id": "Soy2bMxQN-Ub",
        "colab": {
          "base_uri": "https://localhost:8080/"
        },
        "outputId": "9ba6c494-8090-47ca-82a9-f1b756675e43"
      },
      "source": [
        "q8_2 = q8_1.groupBy('user_id').agg(max(struct(col('count'), col('genre'))).alias('max')).select('user_id','max.genre')\n",
        "q8_2.show(5)"
      ],
      "execution_count": null,
      "outputs": [
        {
          "output_type": "stream",
          "name": "stdout",
          "text": [
            "+----------+-----+\n",
            "|   user_id|genre|\n",
            "+----------+-----+\n",
            "| --Shinn--| rock|\n",
            "|  --ollz--| rock|\n",
            "|-Amnesiac-|metal|\n",
            "|    -Bish-| rock|\n",
            "|   -Danni-| rock|\n",
            "+----------+-----+\n",
            "only showing top 5 rows\n",
            "\n"
          ]
        }
      ]
    },
    {
      "cell_type": "markdown",
      "metadata": {
        "id": "6oIyhOHkCDuv"
      },
      "source": [
        "**Query #9**\n",
        "\n",
        "find out how many pop,rock,metal and hip hop singers we have\n",
        "\n",
        "and then visulize it using bar chart "
      ]
    },
    {
      "cell_type": "code",
      "metadata": {
        "id": "7_lEjNKVCDJv",
        "colab": {
          "base_uri": "https://localhost:8080/"
        },
        "outputId": "75182a43-f77a-42a2-f7ea-ae683f166997"
      },
      "source": [
        "q9 = genre_df.select('genre').filter((genre_df.genre == 'pop') | (genre_df.genre == 'rock') | (genre_df.genre == 'metal') |\n",
        "                                     (genre_df.genre == 'hip hop')).groupBy('genre').agg(count('genre').alias('count'))\n",
        "q9.show()"
      ],
      "execution_count": null,
      "outputs": [
        {
          "output_type": "stream",
          "name": "stdout",
          "text": [
            "+-------+-----+\n",
            "|  genre|count|\n",
            "+-------+-----+\n",
            "|    pop| 6960|\n",
            "|hip hop| 4288|\n",
            "|  metal| 1854|\n",
            "|   rock| 9066|\n",
            "+-------+-----+\n",
            "\n"
          ]
        }
      ]
    },
    {
      "cell_type": "markdown",
      "metadata": {
        "id": "h0h2SSk8InMH"
      },
      "source": [
        "Now, let's visualize the results using ***matplotlib***"
      ]
    },
    {
      "cell_type": "code",
      "metadata": {
        "id": "J-n8gOC0Imj5"
      },
      "source": [],
      "execution_count": null,
      "outputs": []
    },
    {
      "cell_type": "code",
      "metadata": {
        "id": "CMigHLrEQgKv"
      },
      "source": [],
      "execution_count": null,
      "outputs": []
    },
    {
      "cell_type": "code",
      "metadata": {
        "id": "FYLE4Mbu_Lbu"
      },
      "source": [],
      "execution_count": null,
      "outputs": []
    },
    {
      "cell_type": "markdown",
      "metadata": {
        "id": "1iDrvEwYQ4AE"
      },
      "source": [
        "now lets visualize these two lists using a bar chart"
      ]
    },
    {
      "cell_type": "code",
      "metadata": {
        "id": "XOOq1U9BQjKI"
      },
      "source": [
        "q9_list = q9.collect()"
      ],
      "execution_count": null,
      "outputs": []
    },
    {
      "cell_type": "code",
      "source": [
        "lables = [row['genre'] for row in q9_list]\n",
        "counts = [row['count'] for row in q9_list]"
      ],
      "metadata": {
        "id": "32wKEHm5ifrK"
      },
      "execution_count": null,
      "outputs": []
    },
    {
      "cell_type": "code",
      "source": [
        "plt.bar(lables, counts)"
      ],
      "metadata": {
        "colab": {
          "base_uri": "https://localhost:8080/",
          "height": 282
        },
        "id": "i1AzIncVihXU",
        "outputId": "66e700f7-6835-4e70-b3e8-277e515ba36e"
      },
      "execution_count": null,
      "outputs": [
        {
          "output_type": "execute_result",
          "data": {
            "text/plain": [
              "<BarContainer object of 4 artists>"
            ]
          },
          "metadata": {},
          "execution_count": 75
        },
        {
          "output_type": "display_data",
          "data": {
            "text/plain": [
              "<Figure size 432x288 with 1 Axes>"
            ],
            "image/png": "[encoded data removed]"
          },
          "metadata": {
            "needs_background": "light"
          }
        }
      ]
    },
    {
      "cell_type": "code",
      "source": [],
      "metadata": {
        "id": "MXFbuRZ1jnTe"
      },
      "execution_count": null,
      "outputs": []
    }
  ]
}